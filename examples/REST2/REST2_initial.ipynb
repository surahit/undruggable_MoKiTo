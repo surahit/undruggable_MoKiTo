{
 "cells": [
  {
   "cell_type": "code",
   "execution_count": null,
   "id": "47f1ccc2-7dcf-4259-afab-ea222350eb4f",
   "metadata": {},
   "outputs": [],
   "source": [
    "import sys\n",
    "import os\n",
    "import numpy as np\n",
    "import openmm as mm\n",
    "from openmm import unit\n",
    "from openmm.app import PDBFile\n",
    "from openmm.app.dcdfile import DCDFile\n",
    "from openmmtools.multistate import MultiStateReporter, ReplicaExchangeAnalyzer\n",
    "import pdb_numpy\n",
    "from REST2_initial import run_rest2_hrex\n",
    "import mdtraj as md\n",
    "\n",
    "sys.path.append(os.path.abspath('..'))\n",
    "from src.useful_functions import *\n"
   ]
  },
  {
   "cell_type": "code",
   "execution_count": null,
   "id": "6d0ba765-33c0-4f58-a110-bbdc7ee65c7e",
   "metadata": {},
   "outputs": [],
   "source": [
    "# Read directory paths\n",
    "read_dirs_paths('dir_paths.txt', globals())\n",
    "check_directories(out_dir ,out_trajectories2 ,out_trajectories3 ,out_trajectories4)"
   ]
  },
  {
   "cell_type": "code",
   "execution_count": null,
   "id": "0d05e9fc-b6f5-48dc-80f9-8b5296f98566",
   "metadata": {},
   "outputs": [],
   "source": [
    "from openmm.app import PDBFile, ForceField\n",
    "from openmm import unit\n",
    "\n",
    "# Load your reference system\n",
    "pdb = PDBFile(inp_dir + \"pdbfile_water_1.pdb\")\n",
    "ff  = ForceField(\"amber14-all.xml\",\"amber14/tip3pfb.xml\")\n",
    "system_ref = ff.createSystem(pdb.topology, nonbondedMethod=mm.app.PME,\n",
    "                             nonbondedCutoff=1.0*unit.nanometer, constraints=mm.app.HBonds)\n",
    "\n",
    "# Define solute atom indices (e.g., all protein atoms)\n",
    "prot_pep_coor = pdb_numpy.Coor(inp_dir + \"pdbfile_water_1.pdb\")\n",
    "solute_indices = prot_pep_coor.get_index_select(\"chain A\")\n",
    "\n",
    "\n",
    "# Ladder (all replicas at 300 K; s from 1.0 down to, say, 0.6)\n",
    "nrep = 12\n",
    "s_list = np.linspace(1.0, 0.95, nrep).tolist()\n",
    "temperatures = [300.0*unit.kelvin]*nrep\n",
    "\n",
    "run_rest2_hrex(inp_dir + \"pdbfile_water_1.pdb\", system_ref, solute_indices, temperatures, s_list,\n",
    "               nsteps=25000, swap_interval=250, timestep=2.0*unit.femtoseconds)\n"
   ]
  }
 ],
 "metadata": {
  "kernelspec": {
   "display_name": "OpenMM (CUDA2)",
   "language": "python",
   "name": "openmm_ff"
  },
  "language_info": {
   "codemirror_mode": {
    "name": "ipython",
    "version": 3
   },
   "file_extension": ".py",
   "mimetype": "text/x-python",
   "name": "python",
   "nbconvert_exporter": "python",
   "pygments_lexer": "ipython3",
   "version": "3.12.2"
  }
 },
 "nbformat": 4,
 "nbformat_minor": 5
}
