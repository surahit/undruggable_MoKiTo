{
 "cells": [
  {
   "cell_type": "code",
   "execution_count": 1,
   "id": "47f1ccc2-7dcf-4259-afab-ea222350eb4f",
   "metadata": {},
   "outputs": [
    {
     "name": "stderr",
     "output_type": "stream",
     "text": [
      "Warning on use of the timeseries module: If the inherent timescales of the system are long compared to those being analyzed, this statistical inefficiency may be an underestimate.  The estimate presumes the use of many statistically independent samples.  Tests should be performed to assess whether this condition is satisfied.   Be cautious in the interpretation of the data.\n",
      "\n",
      "****** PyMBAR will use 64-bit JAX! *******\n",
      "* JAX is currently set to 32-bit bitsize *\n",
      "* which is its default.                  *\n",
      "*                                        *\n",
      "* PyMBAR requires 64-bit mode and WILL   *\n",
      "* enable JAX's 64-bit mode when called.  *\n",
      "*                                        *\n",
      "* This MAY cause problems with other     *\n",
      "* Uses of JAX in the same code.          *\n",
      "******************************************\n",
      "\n"
     ]
    }
   ],
   "source": [
    "import sys\n",
    "import os\n",
    "import numpy as np\n",
    "import openmm as mm\n",
    "from openmm import unit\n",
    "from openmm.app import PDBFile\n",
    "from openmm.app.dcdfile import DCDFile\n",
    "from openmmtools.multistate import MultiStateReporter, ReplicaExchangeAnalyzer\n",
    "import pdb_numpy\n",
    "from REST2_initial import run_rest2_hrex\n",
    "import mdtraj as md\n",
    "\n",
    "sys.path.append(os.path.abspath('..'))\n",
    "from src.useful_functions import *\n"
   ]
  },
  {
   "cell_type": "code",
   "execution_count": 2,
   "id": "6d0ba765-33c0-4f58-a110-bbdc7ee65c7e",
   "metadata": {},
   "outputs": [
    {
     "name": "stdout",
     "output_type": "stream",
     "text": [
      "Created variables:\n",
      "inp_dir = /scratch/htc/fsafarov/2cm2_simulation/REST2/input/\n",
      "out_dir = /scratch/htc/fsafarov/2cm2_simulation/REST2/output/\n",
      "out_trajectories2 = /scratch/htc/fsafarov/2cm2_simulation/REST2/output/trajectories/openmm_files/\n",
      "out_trajectories3 = /scratch/htc/fsafarov/2cm2_simulation/REST2/output/trajectories/openmm_files/initial_states/\n",
      "out_trajectories4 = /scratch/htc/fsafarov/2cm2_simulation/REST2/output/trajectories/openmm_files/final_states/\n",
      "out_isokann = /scratch/htc/fsafarov/2cm2_simulation/REST2/output/isokann/\n",
      "out_mokito = /scratch/htc/fsafarov/2cm2_simulation/REST2/output/mokito/\n",
      "/scratch/htc/fsafarov/2cm2_simulation/REST2/output/ already exists!\n",
      "/scratch/htc/fsafarov/2cm2_simulation/REST2/output/trajectories/openmm_files/ already exists!\n",
      "/scratch/htc/fsafarov/2cm2_simulation/REST2/output/trajectories/openmm_files/initial_states/ already exists!\n",
      "/scratch/htc/fsafarov/2cm2_simulation/REST2/output/trajectories/openmm_files/final_states/ already exists!\n",
      " \n",
      " \n"
     ]
    }
   ],
   "source": [
    "# Read directory paths\n",
    "read_dirs_paths('dir_paths.txt', globals())\n",
    "check_directories(out_dir ,out_trajectories2 ,out_trajectories3 ,out_trajectories4)"
   ]
  },
  {
   "cell_type": "code",
   "execution_count": 3,
   "id": "0d05e9fc-b6f5-48dc-80f9-8b5296f98566",
   "metadata": {},
   "outputs": [
    {
     "name": "stderr",
     "output_type": "stream",
     "text": [
      "Warning: The openmmtools.multistate API is experimental and may change in future releases\n",
      "Warning: The openmmtools.multistate API is experimental and may change in future releases\n"
     ]
    },
    {
     "name": "stdout",
     "output_type": "stream",
     "text": [
      "Please cite the following:\n",
      "\n",
      "        Friedrichs MS, Eastman P, Vaidyanathan V, Houston M, LeGrand S, Beberg AL, Ensign DL, Bruns CM, and Pande VS. Accelerating molecular dynamic simulations on graphics processing unit. J. Comput. Chem. 30:864, 2009. DOI: 10.1002/jcc.21209\n",
      "        Eastman P and Pande VS. OpenMM: A hardware-independent framework for molecular simulations. Comput. Sci. Eng. 12:34, 2010. DOI: 10.1109/MCSE.2010.27\n",
      "        Eastman P and Pande VS. Efficient nonbonded interactions for molecular dynamics on a graphics processing unit. J. Comput. Chem. 31:1268, 2010. DOI: 10.1002/jcc.21413\n",
      "        Eastman P and Pande VS. Constant constraint matrix approximation: A robust, parallelizable constraint method for molecular simulations. J. Chem. Theor. Comput. 6:434, 2010. DOI: 10.1021/ct900463w\n"
     ]
    },
    {
     "name": "stderr",
     "output_type": "stream",
     "text": [
      "Potential energy is NaN after 0 attempts of integration with move LangevinDynamicsMove Attempting a restart...\n"
     ]
    },
    {
     "ename": "OpenMMException",
     "evalue": "Particle coordinate is NaN.  For more information, see https://github.com/openmm/openmm/wiki/Frequently-Asked-Questions#nan",
     "output_type": "error",
     "traceback": [
      "\u001b[31m---------------------------------------------------------------------------\u001b[39m",
      "\u001b[31mOpenMMException\u001b[39m                           Traceback (most recent call last)",
      "\u001b[32m/tmp/ipykernel_49099/2338949681.py\u001b[39m in \u001b[36m?\u001b[39m\u001b[34m()\u001b[39m\n\u001b[32m     16\u001b[39m nrep = \u001b[32m12\u001b[39m\n\u001b[32m     17\u001b[39m s_list = np.linspace(\u001b[32m1.0\u001b[39m, \u001b[32m0.95\u001b[39m, nrep).tolist()\n\u001b[32m     18\u001b[39m temperatures = [\u001b[32m300.0\u001b[39m*unit.kelvin]*nrep\n\u001b[32m     19\u001b[39m \n\u001b[32m---> \u001b[39m\u001b[32m20\u001b[39m run_rest2_hrex(inp_dir + \"pdbfile_water_1.pdb\", system_ref, solute_indices, temperatures, s_list,\n\u001b[32m     21\u001b[39m                nsteps=\u001b[32m25000\u001b[39m, swap_interval=\u001b[32m250\u001b[39m, timestep=\u001b[32m2.0\u001b[39m*unit.femtoseconds)\n",
      "\u001b[32m~/2cm2_simulation/REST2/REST2_initial.py\u001b[39m in \u001b[36m?\u001b[39m\u001b[34m(pdb, system_ref, solute_indices, temperatures, s_list, nsteps, collision_rate, timestep, swap_interval, platform_name)\u001b[39m\n\u001b[32m    138\u001b[39m         thermodynamic_states=thermo_states,\n\u001b[32m    139\u001b[39m         sampler_states=sampler_states,\n\u001b[32m    140\u001b[39m         storage=reporter\n\u001b[32m    141\u001b[39m     )\n\u001b[32m--> \u001b[39m\u001b[32m142\u001b[39m     sampler.run()\n\u001b[32m    143\u001b[39m     reporter.close()\n",
      "\u001b[32m/scratch/htc/fsafarov/openmm_ff/lib/python3.12/site-packages/openmmtools/multistate/multistatesampler.py\u001b[39m in \u001b[36m?\u001b[39m\u001b[34m(self, n_iterations)\u001b[39m\n\u001b[32m    776\u001b[39m             \u001b[38;5;66;03m# Update thermodynamic states\u001b[39;00m\n\u001b[32m    777\u001b[39m             self._replica_thermodynamic_states = self._mix_replicas()\n\u001b[32m    778\u001b[39m \n\u001b[32m    779\u001b[39m             \u001b[38;5;66;03m# Propagate replicas.\u001b[39;00m\n\u001b[32m--> \u001b[39m\u001b[32m780\u001b[39m             self._propagate_replicas()\n\u001b[32m    781\u001b[39m \n\u001b[32m    782\u001b[39m             \u001b[38;5;66;03m# Compute energies of all replicas at all states\u001b[39;00m\n\u001b[32m    783\u001b[39m             self._compute_energies()\n",
      "\u001b[32m/scratch/htc/fsafarov/openmm_ff/lib/python3.12/site-packages/openmmtools/utils/utils.py\u001b[39m in \u001b[36m?\u001b[39m\u001b[34m(*args, **kwargs)\u001b[39m\n\u001b[32m     92\u001b[39m         @functools.wraps(func)\n\u001b[32m     93\u001b[39m         \u001b[38;5;28;01mdef\u001b[39;00m _wrapper(*args, **kwargs):\n\u001b[32m     94\u001b[39m             \u001b[38;5;28;01mwith\u001b[39;00m time_it(task_name):\n\u001b[32m---> \u001b[39m\u001b[32m95\u001b[39m                 \u001b[38;5;28;01mreturn\u001b[39;00m func(*args, **kwargs)\n",
      "\u001b[32m/scratch/htc/fsafarov/openmm_ff/lib/python3.12/site-packages/openmmtools/multistate/multistatesampler.py\u001b[39m in \u001b[36m?\u001b[39m\u001b[34m(self)\u001b[39m\n\u001b[32m   1293\u001b[39m \n\u001b[32m   1294\u001b[39m         \u001b[38;5;66;03m# Distribute propagation across nodes. Only node 0 will get all positions\u001b[39;00m\n\u001b[32m   1295\u001b[39m         \u001b[38;5;66;03m# and box vectors. The other nodes, only need the positions that they use\u001b[39;00m\n\u001b[32m   1296\u001b[39m         \u001b[38;5;66;03m# for propagation and computation of the energy matrix entries.\u001b[39;00m\n\u001b[32m-> \u001b[39m\u001b[32m1297\u001b[39m         propagated_states, replica_ids = mpiplus.distribute(self._propagate_replica, range(self.n_replicas),\n\u001b[32m   1298\u001b[39m                                                         send_results_to=\u001b[32m0\u001b[39m)\n\u001b[32m   1299\u001b[39m \n\u001b[32m   1300\u001b[39m         \u001b[38;5;66;03m# Update all sampler states. For non-0 nodes, this will update only the\u001b[39;00m\n",
      "\u001b[32m/scratch/htc/fsafarov/openmm_ff/lib/python3.12/site-packages/mpiplus/mpiplus.py\u001b[39m in \u001b[36m?\u001b[39m\u001b[34m(task, distributed_args, send_results_to, propagate_exceptions_to, sync_nodes, group_size, *other_args, **kwargs)\u001b[39m\n\u001b[32m    519\u001b[39m \n\u001b[32m    520\u001b[39m     \u001b[38;5;66;03m# If MPI is not activated, just run serially.\u001b[39;00m\n\u001b[32m    521\u001b[39m     \u001b[38;5;28;01mif\u001b[39;00m get_mpicomm() \u001b[38;5;28;01mis\u001b[39;00m \u001b[38;5;28;01mNone\u001b[39;00m:\n\u001b[32m    522\u001b[39m         logger.debug(\u001b[33m'Running {} serially.'\u001b[39m.format(task.__name__))\n\u001b[32m--> \u001b[39m\u001b[32m523\u001b[39m         all_results = [task(job_args, *other_args, **kwargs) \u001b[38;5;28;01mfor\u001b[39;00m job_args \u001b[38;5;28;01min\u001b[39;00m distributed_args]\n\u001b[32m    524\u001b[39m         \u001b[38;5;28;01mif\u001b[39;00m send_results_to == \u001b[33m'all'\u001b[39m:\n\u001b[32m    525\u001b[39m             \u001b[38;5;28;01mreturn\u001b[39;00m all_results\n\u001b[32m    526\u001b[39m         \u001b[38;5;28;01melse\u001b[39;00m:\n",
      "\u001b[32m/scratch/htc/fsafarov/openmm_ff/lib/python3.12/site-packages/openmmtools/multistate/multistatesampler.py\u001b[39m in \u001b[36m?\u001b[39m\u001b[34m(self, replica_id)\u001b[39m\n\u001b[32m   1321\u001b[39m \n\u001b[32m   1322\u001b[39m         \u001b[38;5;66;03m# Apply MCMC move.\u001b[39;00m\n\u001b[32m   1323\u001b[39m         \u001b[38;5;28;01mtry\u001b[39;00m:\n\u001b[32m   1324\u001b[39m             mcmc_move.apply(thermodynamic_state, sampler_state, context_cache=self.sampler_context_cache)\n\u001b[32m-> \u001b[39m\u001b[32m1325\u001b[39m         \u001b[38;5;28;01mexcept\u001b[39;00m mcmc.IntegratorMoveError \u001b[38;5;28;01mas\u001b[39;00m e:\n\u001b[32m   1326\u001b[39m             \u001b[38;5;66;03m# Save NaNnig context and MCMove before aborting.\u001b[39;00m\n\u001b[32m   1327\u001b[39m             output_dir = os.path.join(os.path.dirname(self._reporter.filepath), \u001b[33m'nan-error-logs'\u001b[39m)\n\u001b[32m   1328\u001b[39m             file_name = 'iteration{}-replica{}-state{}'.format(self._iteration, replica_id,\n",
      "\u001b[32m/scratch/htc/fsafarov/openmm_ff/lib/python3.12/site-packages/openmmtools/mcmc.py\u001b[39m in \u001b[36m?\u001b[39m\u001b[34m(self, thermodynamic_state, sampler_state, context_cache)\u001b[39m\n\u001b[32m   1147\u001b[39m             Context cache to be used during propagation \u001b[38;5;28;01mwith\u001b[39;00m the integrator.\n\u001b[32m   1148\u001b[39m \n\u001b[32m   1149\u001b[39m         \"\"\"\n\u001b[32m   1150\u001b[39m         \u001b[38;5;66;03m# Explicitly implemented just to have more specific docstring.\u001b[39;00m\n\u001b[32m-> \u001b[39m\u001b[32m1151\u001b[39m         super(LangevinDynamicsMove, self).apply(thermodynamic_state, sampler_state,\n\u001b[32m   1152\u001b[39m                                                 context_cache=context_cache)\n",
      "\u001b[32m/scratch/htc/fsafarov/openmm_ff/lib/python3.12/site-packages/openmmtools/mcmc.py\u001b[39m in \u001b[36m?\u001b[39m\u001b[34m(self, thermodynamic_state, sampler_state, context_cache)\u001b[39m\n\u001b[32m    705\u001b[39m         \u001b[38;5;66;03m# Perform the integration.\u001b[39;00m\n\u001b[32m    706\u001b[39m         \u001b[38;5;28;01mfor\u001b[39;00m attempt_counter \u001b[38;5;28;01min\u001b[39;00m range(self.n_restart_attempts + \u001b[32m1\u001b[39m):\n\u001b[32m    707\u001b[39m \n\u001b[32m    708\u001b[39m             \u001b[38;5;66;03m# If we reassign velocities, we can ignore the ones in sampler_state.\u001b[39;00m\n\u001b[32m--> \u001b[39m\u001b[32m709\u001b[39m             sampler_state.apply_to_context(context, ignore_velocities=self.reassign_velocities)\n\u001b[32m    710\u001b[39m             \u001b[38;5;28;01mif\u001b[39;00m self.reassign_velocities:\n\u001b[32m    711\u001b[39m                 context.setVelocitiesToTemperature(thermodynamic_state.temperature)\n\u001b[32m    712\u001b[39m \n",
      "\u001b[32m/scratch/htc/fsafarov/openmm_ff/lib/python3.12/site-packages/openmmtools/states.py\u001b[39m in \u001b[36m?\u001b[39m\u001b[34m(self, context, ignore_velocities)\u001b[39m\n\u001b[32m   2273\u001b[39m \n\u001b[32m   2274\u001b[39m         \"\"\"\n\u001b[32m   2275\u001b[39m         \u001b[38;5;66;03m# NOTE: Box vectors MUST be updated before positions are set.\u001b[39;00m\n\u001b[32m   2276\u001b[39m         \u001b[38;5;28;01mif\u001b[39;00m self.box_vectors \u001b[38;5;28;01mis\u001b[39;00m \u001b[38;5;28;01mnot\u001b[39;00m \u001b[38;5;28;01mNone\u001b[39;00m:\n\u001b[32m-> \u001b[39m\u001b[32m2277\u001b[39m             context.setPeriodicBoxVectors(*self.box_vectors)\n\u001b[32m   2278\u001b[39m         context.setPositions(self._unitless_positions)\n\u001b[32m   2279\u001b[39m         \u001b[38;5;28;01mif\u001b[39;00m self._velocities \u001b[38;5;28;01mis\u001b[39;00m \u001b[38;5;28;01mnot\u001b[39;00m \u001b[38;5;28;01mNone\u001b[39;00m \u001b[38;5;28;01mand\u001b[39;00m \u001b[38;5;28;01mnot\u001b[39;00m ignore_velocities:\n\u001b[32m   2280\u001b[39m             context.setVelocities(self._unitless_velocities)\n",
      "\u001b[32m/scratch/htc/fsafarov/openmm_ff/lib/python3.12/site-packages/openmm/openmm.py\u001b[39m in \u001b[36m?\u001b[39m\u001b[34m(self, a, b, c)\u001b[39m\n\u001b[32m  11288\u001b[39m         \u001b[38;5;28;01mif\u001b[39;00m unit.is_quantity(c):\n\u001b[32m  11289\u001b[39m             c = c.value_in_unit(unit.nanometer)\n\u001b[32m  11290\u001b[39m \n\u001b[32m  11291\u001b[39m \n\u001b[32m> \u001b[39m\u001b[32m11292\u001b[39m         \u001b[38;5;28;01mreturn\u001b[39;00m _openmm.Context_setPeriodicBoxVectors(self, a, b, c)\n",
      "\u001b[31mOpenMMException\u001b[39m: Particle coordinate is NaN.  For more information, see https://github.com/openmm/openmm/wiki/Frequently-Asked-Questions#nan"
     ]
    }
   ],
   "source": [
    "from openmm.app import PDBFile, ForceField\n",
    "from openmm import unit\n",
    "\n",
    "# Load your reference system\n",
    "pdb = PDBFile(inp_dir + \"pdbfile_water_1.pdb\")\n",
    "ff  = ForceField(\"amber14-all.xml\",\"amber14/tip3pfb.xml\")\n",
    "system_ref = ff.createSystem(pdb.topology, nonbondedMethod=mm.app.PME,\n",
    "                             nonbondedCutoff=1.0*unit.nanometer, constraints=mm.app.HBonds)\n",
    "\n",
    "# Define solute atom indices (e.g., all protein atoms)\n",
    "prot_pep_coor = pdb_numpy.Coor(inp_dir + \"pdbfile_water_1.pdb\")\n",
    "solute_indices = prot_pep_coor.get_index_select(\"chain A\")\n",
    "\n",
    "\n",
    "# Ladder (all replicas at 300 K; s from 1.0 down to, say, 0.6)\n",
    "nrep = 12\n",
    "s_list = np.linspace(1.0, 0.95, nrep).tolist()\n",
    "temperatures = [300.0*unit.kelvin]*nrep\n",
    "\n",
    "run_rest2_hrex(inp_dir + \"pdbfile_water_1.pdb\", system_ref, solute_indices, temperatures, s_list,\n",
    "               nsteps=25000, swap_interval=250, timestep=2.0*unit.femtoseconds)\n"
   ]
  },
  {
   "cell_type": "code",
   "execution_count": null,
   "id": "e1c5bd57-a634-4cd3-ba3d-eeaf16737439",
   "metadata": {},
   "outputs": [],
   "source": [
    "report_path = \"rest2_hrex_4.nc\"\n",
    "ref_k = s_list.index(1.0)\n",
    "\n",
    "an = ReplicaExchangeAnalyzer(report_path)\n",
    "# This returns an mdtraj.Trajectory for the thermodynamic state index = ref_k\n",
    "traj = an.read_trajectory(state_index=ref_k)   # one frame per iteration\n",
    "\n",
    "traj.save_dcd(out_dir + \"rest2_ref_s1.0.dcd\")\n"
   ]
  },
  {
   "cell_type": "code",
   "execution_count": null,
   "id": "53d45f48-8bcc-4157-ad0d-fa302cb8f07f",
   "metadata": {},
   "outputs": [],
   "source": []
  }
 ],
 "metadata": {
  "kernelspec": {
   "display_name": "OpenMM (CUDA2)",
   "language": "python",
   "name": "openmm_ff"
  },
  "language_info": {
   "codemirror_mode": {
    "name": "ipython",
    "version": 3
   },
   "file_extension": ".py",
   "mimetype": "text/x-python",
   "name": "python",
   "nbconvert_exporter": "python",
   "pygments_lexer": "ipython3",
   "version": "3.12.2"
  }
 },
 "nbformat": 4,
 "nbformat_minor": 5
}
