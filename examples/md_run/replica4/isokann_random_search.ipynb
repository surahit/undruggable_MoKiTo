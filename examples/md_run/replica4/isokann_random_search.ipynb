{
 "cells": [
  {
   "cell_type": "code",
   "execution_count": 1,
   "id": "7b4795f3",
   "metadata": {},
   "outputs": [
    {
     "name": "stdout",
     "output_type": "stream",
     "text": [
      "Created variables:\n",
      "inp_dir = input/\n",
      "out_trajectories1 = output/trajectories/\n",
      "out_trajectories2 = output/trajectories/openmm_files/\n",
      "out_trajectories3 = output/trajectories/openmm_files/initial_states/\n",
      "out_trajectories4 = output/trajectories/openmm_files/final_states/\n",
      "out_isokann = output/isokann/\n",
      "out_mokito = output/mokito/\n",
      "\n",
      "cuda\n"
     ]
    }
   ],
   "source": [
    "import numpy as np\n",
    "import sympy as sp\n",
    "import matplotlib.pyplot as plt\n",
    "import matplotlib.cm as cm\n",
    "\n",
    "import sys\n",
    "import os\n",
    "import torch as pt\n",
    "from tqdm import tqdm\n",
    "\n",
    "# Add the project root\n",
    "sys.path.append(os.path.abspath('../../'))\n",
    "\n",
    "from src.useful_functions import read_dirs_paths\n",
    "from src.isokann.modules3 import *\n",
    "\n",
    "# For matplotlib\n",
    "font = {'size'   : 10}\n",
    "plt.rc('font', **font)\n",
    "in2cm = 1/2.54  # centimeters in inches\n",
    "\n",
    "# For reproducibility\n",
    "np.random.seed(0)\n",
    "pt.manual_seed(0)\n",
    "\n",
    "# Read directory paths\n",
    "read_dirs_paths('dir_paths.txt', globals())\n",
    "\n",
    "device = pt.device(\"cuda\" if pt.cuda.is_available() else \"cpu\")\n",
    "print(\"\")\n",
    "print(device)\n"
   ]
  },
  {
   "cell_type": "code",
   "execution_count": 2,
   "id": "558510dc-fb1d-41d0-bb1d-b98df11b5609",
   "metadata": {},
   "outputs": [
    {
     "name": "stdout",
     "output_type": "stream",
     "text": [
      "torch.Size([1000, 10, 2628])\n"
     ]
    }
   ],
   "source": [
    "# Load initial and final states and convert to torch\n",
    "D0 = pt.load(out_trajectories1 + 'PWDistances_0.pt', map_location=device)\n",
    "DT = pt.load(out_trajectories1 + 'PWDistances_t.pt', map_location=device)\n",
    "\n",
    "Npoints = D0.shape[0]\n",
    "Ndims   = D0.shape[1]\n",
    "\n",
    "Nfinpoints  = DT.shape[1]\n",
    "Nframes     = DT.shape[3]\n",
    "\n",
    "\n",
    "frame = 0\n",
    "Dt = pt.clone(DT[frame,:,:,:])\n",
    "\n",
    "print(Dt.shape)"
   ]
  },
  {
   "cell_type": "code",
   "execution_count": 3,
   "id": "7587632a-c01c-4509-b911-0a570d7e5c17",
   "metadata": {},
   "outputs": [
    {
     "name": "stderr",
     "output_type": "stream",
     "text": [
      "  0%|          | 0/15 [00:00<?, ?it/s]"
     ]
    },
    {
     "name": "stdout",
     "output_type": "stream",
     "text": [
      " \n",
      "Nepochs = 10\n",
      "Nodes = [2628 1314  657    1]\n",
      "Learning rate = 0.01\n",
      "Weight decay = 0.005\n",
      "Batch size = 200\n",
      "Patience = 3\n",
      "Activation function = leakyrelu\n",
      "Validation loss: "
     ]
    },
    {
     "name": "stderr",
     "output_type": "stream",
     "text": [
      "  7%|▋         | 1/15 [00:09<02:09,  9.27s/it]"
     ]
    },
    {
     "name": "stdout",
     "output_type": "stream",
     "text": [
      "tensor(0.0004, device='cuda:0')\n",
      "Convergence: 0.999943383451379\n",
      " \n",
      "Nepochs = 10\n",
      "Nodes = [2628 1314  657    1]\n",
      "Learning rate = 0.005\n",
      "Weight decay = 0.0001\n",
      "Batch size = 50\n",
      "Patience = 5\n",
      "Activation function = leakyrelu\n"
     ]
    },
    {
     "name": "stderr",
     "output_type": "stream",
     "text": [
      " 13%|█▎        | 2/15 [00:10<01:01,  4.74s/it]"
     ]
    },
    {
     "name": "stdout",
     "output_type": "stream",
     "text": [
      "Validation loss: tensor(0.0002, device='cuda:0')\n",
      "Convergence: 1.0004331972011924\n",
      " \n",
      "Nepochs = 10\n",
      "Nodes = [2628 1752  876    1]\n",
      "Learning rate = 0.01\n",
      "Weight decay = 0.0001\n",
      "Batch size = 100\n",
      "Patience = 5\n",
      "Activation function = leakyrelu\n"
     ]
    },
    {
     "name": "stderr",
     "output_type": "stream",
     "text": [
      " 20%|██        | 3/15 [00:11<00:36,  3.04s/it]"
     ]
    },
    {
     "name": "stdout",
     "output_type": "stream",
     "text": [
      "Validation loss: tensor(0.0003, device='cuda:0')\n",
      "Convergence: 1.0002572306462258\n",
      " \n",
      "Nepochs = 10\n",
      "Nodes = [2628 1752    1]\n",
      "Learning rate = 0.001\n",
      "Weight decay = 0.001\n",
      "Batch size = 200\n",
      "Patience = 3\n",
      "Activation function = leakyrelu\n"
     ]
    },
    {
     "name": "stderr",
     "output_type": "stream",
     "text": [
      " 27%|██▋       | 4/15 [00:12<00:22,  2.07s/it]"
     ]
    },
    {
     "name": "stdout",
     "output_type": "stream",
     "text": [
      "Validation loss: tensor(0.0002, device='cuda:0')\n",
      "Convergence: 1.0001839820513885\n",
      " \n",
      "Nepochs = 15\n",
      "Nodes = [2628 1752    1]\n",
      "Learning rate = 0.005\n",
      "Weight decay = 0.005\n",
      "Batch size = 100\n",
      "Patience = 5\n",
      "Activation function = leakyrelu\n"
     ]
    },
    {
     "name": "stderr",
     "output_type": "stream",
     "text": [
      " 33%|███▎      | 5/15 [00:14<00:20,  2.06s/it]"
     ]
    },
    {
     "name": "stdout",
     "output_type": "stream",
     "text": [
      "Validation loss: tensor(0.0004, device='cuda:0')\n",
      "Convergence: 1.0006168554790174\n",
      " \n",
      "Nepochs = 15\n",
      "Nodes = [2628 1314  657    1]\n",
      "Learning rate = 0.005\n",
      "Weight decay = 0.0001\n",
      "Batch size = 100\n",
      "Patience = 2\n",
      "Activation function = leakyrelu\n"
     ]
    },
    {
     "name": "stderr",
     "output_type": "stream",
     "text": [
      " 40%|████      | 6/15 [00:15<00:15,  1.69s/it]"
     ]
    },
    {
     "name": "stdout",
     "output_type": "stream",
     "text": [
      "Validation loss: tensor(0.0003, device='cuda:0')\n",
      "Convergence: 1.0007538458132281\n",
      " \n",
      "Nepochs = 5\n",
      "Nodes = [2628 1314  657    1]\n",
      "Learning rate = 0.001\n",
      "Weight decay = 0.0001\n",
      "Batch size = 200\n",
      "Patience = 2\n",
      "Activation function = leakyrelu\n"
     ]
    },
    {
     "name": "stderr",
     "output_type": "stream",
     "text": [
      " 47%|████▋     | 7/15 [00:17<00:13,  1.68s/it]"
     ]
    },
    {
     "name": "stdout",
     "output_type": "stream",
     "text": [
      "Validation loss: tensor(0.0002, device='cuda:0')\n",
      "Convergence: 1.0008652479478266\n",
      " \n",
      "Nepochs = 10\n",
      "Nodes = [2628 1752  876    1]\n",
      "Learning rate = 0.001\n",
      "Weight decay = 0.005\n",
      "Batch size = 200\n",
      "Patience = 2\n",
      "Activation function = leakyrelu\n"
     ]
    },
    {
     "name": "stderr",
     "output_type": "stream",
     "text": [
      " 53%|█████▎    | 8/15 [00:18<00:11,  1.66s/it]"
     ]
    },
    {
     "name": "stdout",
     "output_type": "stream",
     "text": [
      "Validation loss: tensor(0.0002, device='cuda:0')\n",
      "Convergence: 1.0009226150597597\n",
      " \n",
      "Nepochs = 15\n",
      "Nodes = [2628 1752  876    1]\n",
      "Learning rate = 0.01\n",
      "Weight decay = 0.001\n",
      "Batch size = 200\n",
      "Patience = 3\n",
      "Activation function = leakyrelu\n"
     ]
    },
    {
     "name": "stderr",
     "output_type": "stream",
     "text": [
      " 60%|██████    | 9/15 [00:19<00:08,  1.45s/it]"
     ]
    },
    {
     "name": "stdout",
     "output_type": "stream",
     "text": [
      "Validation loss: tensor(0.0003, device='cuda:0')\n",
      "Convergence: 0.9998104245554477\n",
      " \n",
      "Nepochs = 5\n",
      "Nodes = [2628 1314    1]\n",
      "Learning rate = 0.001\n",
      "Weight decay = 0.005\n",
      "Batch size = 50\n",
      "Patience = 3\n",
      "Activation function = leakyrelu\n"
     ]
    },
    {
     "name": "stderr",
     "output_type": "stream",
     "text": [
      " 67%|██████▋   | 10/15 [00:20<00:06,  1.28s/it]"
     ]
    },
    {
     "name": "stdout",
     "output_type": "stream",
     "text": [
      "Validation loss: tensor(0.0002, device='cuda:0')\n",
      "Convergence: 0.9999477296413165\n",
      " \n",
      "Nepochs = 15\n",
      "Nodes = [2628 1752    1]\n",
      "Learning rate = 0.001\n",
      "Weight decay = 0.005\n",
      "Batch size = 200\n",
      "Patience = 2\n",
      "Activation function = leakyrelu\n"
     ]
    },
    {
     "name": "stderr",
     "output_type": "stream",
     "text": [
      " 73%|███████▎  | 11/15 [00:21<00:04,  1.06s/it]"
     ]
    },
    {
     "name": "stdout",
     "output_type": "stream",
     "text": [
      "Validation loss: tensor(0.0003, device='cuda:0')\n",
      "Convergence: 1.0006590324314184\n",
      " \n",
      "Nepochs = 10\n",
      "Nodes = [2628 1752    1]\n",
      "Learning rate = 0.001\n",
      "Weight decay = 0.005\n",
      "Batch size = 100\n",
      "Patience = 5\n",
      "Activation function = leakyrelu\n"
     ]
    },
    {
     "name": "stderr",
     "output_type": "stream",
     "text": [
      " 80%|████████  | 12/15 [00:21<00:02,  1.09it/s]"
     ]
    },
    {
     "name": "stdout",
     "output_type": "stream",
     "text": [
      "Validation loss: tensor(0.0002, device='cuda:0')\n",
      "Convergence: 1.0003884894136454\n",
      " \n",
      "Nepochs = 10\n",
      "Nodes = [2628 1752  876    1]\n",
      "Learning rate = 0.01\n",
      "Weight decay = 0.001\n",
      "Batch size = 50\n",
      "Patience = 5\n",
      "Activation function = leakyrelu\n"
     ]
    },
    {
     "name": "stderr",
     "output_type": "stream",
     "text": [
      " 87%|████████▋ | 13/15 [00:24<00:03,  1.60s/it]"
     ]
    },
    {
     "name": "stdout",
     "output_type": "stream",
     "text": [
      "Validation loss: tensor(0.0003, device='cuda:0')\n",
      "Convergence: 0.9995057326087564\n",
      " \n",
      "Nepochs = 10\n",
      "Nodes = [2628 1752    1]\n",
      "Learning rate = 0.01\n",
      "Weight decay = 0.0001\n",
      "Batch size = 50\n",
      "Patience = 2\n",
      "Activation function = leakyrelu\n"
     ]
    },
    {
     "name": "stderr",
     "output_type": "stream",
     "text": [
      " 93%|█████████▎| 14/15 [00:25<00:01,  1.30s/it]"
     ]
    },
    {
     "name": "stdout",
     "output_type": "stream",
     "text": [
      "Validation loss: tensor(0.0003, device='cuda:0')\n",
      "Convergence: 1.0006618070558322\n",
      " \n",
      "Nepochs = 5\n",
      "Nodes = [2628 1314  657    1]\n",
      "Learning rate = 0.001\n",
      "Weight decay = 0.0001\n",
      "Batch size = 100\n",
      "Patience = 5\n",
      "Activation function = leakyrelu\n"
     ]
    },
    {
     "name": "stderr",
     "output_type": "stream",
     "text": [
      "100%|██████████| 15/15 [00:27<00:00,  1.82s/it]"
     ]
    },
    {
     "name": "stdout",
     "output_type": "stream",
     "text": [
      "Validation loss: tensor(0.0002, device='cuda:0')\n",
      "Convergence: 1.0006048228156204\n",
      "The best hyperparameters are: {'Nepochs': 10, 'nodes': array([2628, 1752,    1]), 'learning_rate': 0.001, 'weight_decay': 0.005, 'batch_size': 100, 'patience': 5, 'act_fun': 'leakyrelu'}\n",
      "The best validation loss is: tensor(0.0002, device='cuda:0')\n"
     ]
    },
    {
     "name": "stderr",
     "output_type": "stream",
     "text": [
      "\n"
     ]
    }
   ],
   "source": [
    "NN_epochs = [5, 10 ,15]\n",
    "\n",
    "\n",
    "NN_nodes =          [(Ndims, int(2*Ndims/3), 1), \n",
    "                      (Ndims, int(2*Ndims/3), int(Ndims/3), 1),\n",
    "                      (Ndims, int(Ndims/2), 1), \n",
    "                      (Ndims, int(Ndims/2),int(Ndims/4), 1)]\n",
    "\n",
    "NN_lr = [ 0.01,\n",
    "          0.005,\n",
    "          0.001]\n",
    "\n",
    "NN_wd  = [ 0.001,\n",
    "           0.005,\n",
    "           0.0001]\n",
    "\n",
    "NN_bs  = [50, 100, 200]\n",
    "\n",
    "NN_patience = [2, 3, 5]\n",
    "\n",
    "NN_act_fun = ['leakyrelu']\n",
    "\n",
    "best_hyperparams, best_val_loss  = random_search(D0,\n",
    "                                                Dt,\n",
    "                                                NN_epochs,\n",
    "                                                NN_nodes,\n",
    "                                                NN_lr,\n",
    "                                                NN_wd,\n",
    "                                                NN_bs,\n",
    "                                                NN_patience,\n",
    "                                                NN_act_fun,\n",
    "                                                search_iterations=15,\n",
    "                                                test_size = 0.2)\n",
    "\n",
    "print(\"The best hyperparameters are:\", best_hyperparams)\n",
    "print(\"The best validation loss is:\",  best_val_loss)\n"
   ]
  },
  {
   "cell_type": "code",
   "execution_count": 4,
   "id": "f5a8fbc0",
   "metadata": {},
   "outputs": [],
   "source": [
    "import pickle\n",
    "# Save to a file\n",
    "with open(out_isokann + 'hyperparameters.pkl', 'wb') as file:\n",
    "    pickle.dump(best_hyperparams, file)"
   ]
  }
 ],
 "metadata": {
  "kernelspec": {
   "display_name": "emma32",
   "language": "python",
   "name": "python3"
  },
  "language_info": {
   "codemirror_mode": {
    "name": "ipython",
    "version": 3
   },
   "file_extension": ".py",
   "mimetype": "text/x-python",
   "name": "python",
   "nbconvert_exporter": "python",
   "pygments_lexer": "ipython3",
   "version": "3.11.8"
  }
 },
 "nbformat": 4,
 "nbformat_minor": 5
}
