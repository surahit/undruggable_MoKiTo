{
 "cells": [
  {
   "cell_type": "code",
   "execution_count": null,
   "id": "8a9a7a1f",
   "metadata": {},
   "outputs": [],
   "source": [
    "import numpy as np\n",
    "import sympy as sp\n",
    "import matplotlib.pyplot as plt\n",
    "import sys\n",
    "import os\n",
    "\n",
    "# Add the project root\n",
    "sys.path.append(os.path.abspath('../../../'))\n",
    "\n",
    "from src.useful_functions import *\n",
    "from src.openmm.short_trajectories_module import generate_short_trajectories\n",
    "\n",
    "# For reproducibility\n",
    "np.random.seed(0)\n",
    "\n",
    "\n",
    "\n",
    "# Read directory paths\n",
    "read_dirs_paths('dir_paths.txt', globals())\n",
    "check_directories(out_trajectories1 ,out_trajectories2 ,out_initial_states ,out_final_states)"
   ]
  },
  {
   "cell_type": "code",
   "execution_count": 2,
   "id": "a612a667",
   "metadata": {},
   "outputs": [
    {
     "name": "stdout",
     "output_type": "stream",
     "text": [
      ">> Working directories:\n",
      "Input files: input/\n",
      "Output files: output/trajectories/openmm_files/\n",
      "Output files2: output/trajectories/openmm_files/final_states/\n",
      " \n",
      "Number of initial states: 1000\n",
      "Number of final states: 10\n",
      " \n",
      ">> Integrator parameters:\n",
      "Integrator timestep: 0.002 ps\n",
      "Number of timesteps: 1000\n",
      "Real time: 0.002 ns\n",
      "Saved frames (only molecule): 10\n",
      " \n",
      ">> System parameters:\n",
      "Temperature: 300 K\n",
      "Friction: 1 ps-1\n",
      "\n",
      ">> Molecule parameters:\n",
      "Number of atoms (no water): 73\n",
      "Number of water molecules: 782\n",
      "Total number of atoms: 2419\n",
      " \n"
     ]
    },
    {
     "name": "stderr",
     "output_type": "stream",
     "text": [
      "  0%|          | 0/1000 [00:00<?, ?it/s]/scratch/htc/ldonati/anaconda32/envs/emma32/lib/python3.11/site-packages/mdtraj/utils/validation.py:123: TypeCastPerformanceWarning: Casting xyz dtype=float64 to <class 'numpy.float32'> \n",
      "  warnings.warn(\n",
      "100%|██████████| 1000/1000 [2:51:10<00:00, 10.27s/it] "
     ]
    },
    {
     "name": "stdout",
     "output_type": "stream",
     "text": [
      "\n",
      "\n",
      "****** SIMULATION COMPLETED *****************************\n",
      "\n",
      "\n"
     ]
    },
    {
     "name": "stderr",
     "output_type": "stream",
     "text": [
      "\n"
     ]
    }
   ],
   "source": [
    "pdbfile_solute = '2CM2_4884_v4.pdb'\n",
    "pdbfile_water = \"pdbfile_water.pdb\"\n",
    "#smiles of ligand \n",
    "smiles  = 'Cc1ccc2c(c1)c(cc(n2)C(F)(F)F)N3CCNCC3'\n",
    "\n",
    "#output trajectory file of simulation\n",
    "file_traj_water  = \"trajectory_water_combined.dcd\"\n",
    "\n",
    "generate_short_trajectories(\n",
    "                                inp_dir  =  inp_dir,\n",
    "                                out_dir  =  out_trajectories2,\n",
    "                                out_dir2 =  out_final_states,\n",
    "                                pdbfile_water  = pdbfile_water,\n",
    "                                file_traj_water  = file_traj_water,\n",
    "                                smiles = smiles,\n",
    "                                dt       = 0.002,\n",
    "                                Nsteps   = 1000,\n",
    "                                Nframes_solute    = 10,\n",
    "                                Nframes_water     = 0,\n",
    "                                solvent = 'water',\n",
    "                                NfinPoints = 10,\n",
    "                                gamma = 1,\n",
    "                                T     = 310,\n",
    "                                use_initial_vels = False\n",
    "                                 )"
   ]
  }
 ],
 "metadata": {
  "kernelspec": {
   "display_name": "OpenMM (CUDA2)",
   "language": "python",
   "name": "openmm_ff"
  },
  "language_info": {
   "codemirror_mode": {
    "name": "ipython",
    "version": 3
   },
   "file_extension": ".py",
   "mimetype": "text/x-python",
   "name": "python",
   "nbconvert_exporter": "python",
   "pygments_lexer": "ipython3",
   "version": "3.12.2"
  }
 },
 "nbformat": 4,
 "nbformat_minor": 5
}
