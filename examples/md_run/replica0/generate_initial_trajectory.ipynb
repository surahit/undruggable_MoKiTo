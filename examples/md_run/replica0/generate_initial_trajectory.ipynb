{
 "cells": [
  {
   "cell_type": "code",
   "execution_count": null,
   "id": "8a9a7a1f",
   "metadata": {},
   "outputs": [],
   "source": [
    "import numpy as np\n",
    "import sympy as sp\n",
    "import matplotlib.pyplot as plt\n",
    "import sys\n",
    "import os\n",
    "\n",
    "# Add the project root\n",
    "sys.path.append(os.path.abspath('../../'))\n",
    "\n",
    "from src.useful_functions import *\n",
    "from src.openmm.initial_trajectory_module import generate_initial_trajectory\n",
    "\n",
    "# For reproducibility\n",
    "np.random.seed(0)\n",
    "\n",
    "# For matplotlib\n",
    "font = {'size'   : 10}\n",
    "plt.rc('font', **font)\n",
    "in2cm = 1/2.54  # centimeters in inches\n",
    "\n",
    "# Read directory paths\n",
    "read_dirs_paths('dir_paths.txt', globals())\n",
    "check_directories(out_trajectories1 ,out_trajectories2 ,out_trajectories3 ,out_trajectories4)"
   ]
  },
  {
   "cell_type": "code",
   "execution_count": null,
   "id": "a612a667",
   "metadata": {},
   "outputs": [],
   "source": [
    "pdbfile_solute = 'pdbfile_solute.pdb'\n",
    "pdbfile_water = 'pdbfile_water.pdb'\n",
    "\n",
    "file_traj_water  = \"trajectory_water.dcd\"\n",
    "file_traj_solute = \"trajectory_solute.dcd\"\n",
    "\n",
    "generate_initial_trajectory(\n",
    "                                inp_dir  =  inp_dir,\n",
    "                                out_dir  =  out_trajectories2,\n",
    "                                pdbfile_solute = pdbfile_solute, \n",
    "                                file_traj_water  = file_traj_water,\n",
    "                                file_traj_solute = file_traj_solute,\n",
    "                                dt       = 0.002,\n",
    "                                Nsteps   = 500000000,\n",
    "                                Nframes_solute    = 10000,\n",
    "                                Nframes_water     = 1000,\n",
    "                                solvent = 'water',\n",
    "                                timesteps_equilibration = 10000,\n",
    "                                save_vels = True,\n",
    "                                gamma = 1,\n",
    "                                T     = 300,\n",
    "                                water_padding = 1.4\n",
    "                            )"
   ]
  }
 ],
 "metadata": {
  "kernelspec": {
   "display_name": "emma32",
   "language": "python",
   "name": "python3"
  },
  "language_info": {
   "codemirror_mode": {
    "name": "ipython",
    "version": 3
   },
   "file_extension": ".py",
   "mimetype": "text/x-python",
   "name": "python",
   "nbconvert_exporter": "python",
   "pygments_lexer": "ipython3",
   "version": "3.11.8"
  }
 },
 "nbformat": 4,
 "nbformat_minor": 5
}
