{
 "cells": [
  {
   "cell_type": "code",
   "execution_count": 1,
   "id": "8a9a7a1f",
   "metadata": {},
   "outputs": [
    {
     "name": "stdout",
     "output_type": "stream",
     "text": [
      " \n",
      "Created variables:\n",
      "inp_dir = input/\n",
      "out_trajectories1 = output/trajectories/\n",
      "out_trajectories2 = output/trajectories/openmm_files/\n",
      "out_trajectories3 = output/trajectories/openmm_files/initial_states/\n",
      "out_trajectories4 = output/trajectories/openmm_files/final_states/\n",
      "out_isokann = output/isokann/\n",
      "out_mokito = output/mokito/\n"
     ]
    }
   ],
   "source": [
    "import numpy as np\n",
    "import sympy as sp\n",
    "import matplotlib.pyplot as plt\n",
    "import sys\n",
    "import os\n",
    "\n",
    "# Add the project root\n",
    "sys.path.append(os.path.abspath('../../'))\n",
    "\n",
    "from src.useful_functions import *\n",
    "from src.openmm.PWDs_module import generate_PWDistances_torch\n",
    "\n",
    "# For reproducibility\n",
    "np.random.seed(0)\n",
    "\n",
    "# For matplotlib\n",
    "font = {'size'   : 10}\n",
    "plt.rc('font', **font)\n",
    "in2cm = 1/2.54  # centimeters in inches\n",
    "\n",
    "# Read directory paths\n",
    "read_dirs_paths('dir_paths.txt', globals())\n"
   ]
  },
  {
   "cell_type": "code",
   "execution_count": 2,
   "id": "a612a667",
   "metadata": {},
   "outputs": [
    {
     "name": "stdout",
     "output_type": "stream",
     "text": [
      "output/isokann/ already exists!\n",
      " \n",
      " \n",
      " \n",
      "This will create torch files containing PW distances using ALL atoms\n",
      " \n",
      "Number of initial states: 1000\n",
      "Number of final states: 10\n",
      "Number of atoms (no water): 73\n",
      "I am generating the relevant coordinate...\n",
      "len(rel_coords)==2, then the relevant coordinate is a DISTANCE between 2 atoms\n",
      " \n",
      "Number of pairwise distances between ALL atoms: 2628\n"
     ]
    },
    {
     "name": "stderr",
     "output_type": "stream",
     "text": [
      "100%|██████████| 1000/1000 [00:09<00:00, 101.17it/s]\n"
     ]
    },
    {
     "name": "stdout",
     "output_type": "stream",
     "text": [
      "Shape of D0?\n",
      "Npoints, Ndims\n",
      "torch.Size([1000, 2628])\n",
      " \n",
      "I am creating the tensor with the final states...\n",
      "The shape of a file xt_i_rj.dcd is (10, 73, 3)\n"
     ]
    },
    {
     "name": "stderr",
     "output_type": "stream",
     "text": [
      "100%|██████████| 1000/1000 [00:43<00:00, 23.07it/s]\n"
     ]
    },
    {
     "name": "stdout",
     "output_type": "stream",
     "text": [
      " \n",
      "Shape of Dt?\n",
      "Nframes, Npoints, Nfinpoints, Ndims\n",
      "torch.Size([10, 1000, 10, 2628])\n"
     ]
    }
   ],
   "source": [
    "\n",
    "if not os.path.exists(out_isokann ):\n",
    "    # Create the directory\n",
    "    os.makedirs(out_isokann )\n",
    "    print(out_isokann , \"created successfully!\")\n",
    "else:\n",
    "    print(out_isokann , \"already exists!\")\n",
    "\n",
    "print(\" \")\n",
    "print(\" \")\n",
    "\n",
    "generate_PWDistances_torch(\n",
    "                        inp_dir  =  inp_dir ,\n",
    "                        out_dir  =  out_trajectories2 ,\n",
    "                        iso_dir  =  out_trajectories1 ,\n",
    "                        out_dir2 =  'final_states/',\n",
    "                        pdbfile_solute    = 'pdbfile_solute.pdb', \n",
    "                        pdbfile_water     = 'pdbfile_water.pdb', \n",
    "                        prmtopfile_solute = 'prmtopfile_solute.prmtop', \n",
    "                        file_traj_water   = 'trajectory_water.dcd',\n",
    "                        file_traj_solute  = 'trajectory_solute.dcd',\n",
    "                        frames     = np.array([0,1,2,3,4,5,6,7,8,9]),\n",
    "                        rel_coords = np.array([[0,70]]),\n",
    "                        BB=False\n",
    "                        )\n",
    "                        "
   ]
  },
  {
   "cell_type": "code",
   "execution_count": null,
   "id": "dd518a99",
   "metadata": {},
   "outputs": [],
   "source": []
  }
 ],
 "metadata": {
  "kernelspec": {
   "display_name": "emma32",
   "language": "python",
   "name": "python3"
  },
  "language_info": {
   "codemirror_mode": {
    "name": "ipython",
    "version": 3
   },
   "file_extension": ".py",
   "mimetype": "text/x-python",
   "name": "python",
   "nbconvert_exporter": "python",
   "pygments_lexer": "ipython3",
   "version": "3.11.8"
  }
 },
 "nbformat": 4,
 "nbformat_minor": 5
}
