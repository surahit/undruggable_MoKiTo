{
 "cells": [
  {
   "cell_type": "code",
   "execution_count": 1,
   "metadata": {},
   "outputs": [
    {
     "name": "stdout",
     "output_type": "stream",
     "text": [
      "Created variables:\n",
      "inp_dir = input/\n",
      "out_trajectories1 = output/trajectories/\n",
      "out_trajectories2 = output/trajectories/openmm_files/\n",
      "out_trajectories3 = output/trajectories/openmm_files/initial_states/\n",
      "out_trajectories4 = output/trajectories/openmm_files/final_states/\n",
      "out_isokann = output/isokann/\n",
      "out_mokito = output/mokito/\n",
      "\n",
      "cuda\n"
     ]
    }
   ],
   "source": [
    "import numpy as np\n",
    "import matplotlib.pyplot as plt\n",
    "import matplotlib.cm as cm\n",
    "import torch as pt \n",
    "\n",
    "import sys\n",
    "import os\n",
    "from tqdm import tqdm\n",
    "\n",
    "# Add the project root\n",
    "sys.path.append(os.path.abspath('../../'))\n",
    "\n",
    "from src.useful_functions import read_dirs_paths\n",
    "from src.mokito.modules2 import *\n",
    "\n",
    "# For matplotlib\n",
    "font = {'size'   : 10}\n",
    "plt.rc('font', **font)\n",
    "in2cm = 1/2.54  # centimeters in inches\n",
    "\n",
    "# Read directory paths\n",
    "read_dirs_paths('dir_paths.txt', globals())\n",
    "\n",
    "device = pt.device(\"cuda\" if pt.cuda.is_available() else \"cpu\")\n",
    "print(\"\")\n",
    "print(device)"
   ]
  },
  {
   "cell_type": "code",
   "execution_count": 2,
   "metadata": {},
   "outputs": [
    {
     "name": "stdout",
     "output_type": "stream",
     "text": [
      "Check shape of input data\n",
      "X0.shape   =  (1000, 2628)\n",
      "chi0.shape =  (1000,)\n",
      "  \n"
     ]
    }
   ],
   "source": [
    "frame = 0\n",
    "\n",
    "# Load initial and final states \n",
    "pdbfile_water    = 'pdbfile_water.pdb' \n",
    "file_traj_water  = 'trajectory_water.dcd'\n",
    "\n",
    "mdtraj =  md.load(out_trajectories2 + file_traj_water, top = inp_dir + pdbfile_water).remove_solvent() \n",
    "#atoms_BB = mdtraj.topology.select(\"backbone\")\n",
    "#mdtraj = mdtraj.atom_slice(atoms_BB)\n",
    "\n",
    "X0     = pt.load(out_trajectories1 + 'PWDistances_0.pt', map_location=device).cpu().detach().numpy()         #  X0.shape = (N, 2628) \n",
    "\n",
    "# Load chi function\n",
    "chi0 = np.loadtxt(out_isokann + 'chi0.txt')     #  chi0.shape = (Npoints,)\n",
    "\n",
    "data           =  OrganizeData( X0, chi0, MDtraj = mdtraj)\n",
    "\n",
    "FIs    =  FindIntervals(data, Nintervals=5, clustering = 'grid')"
   ]
  },
  {
   "cell_type": "code",
   "execution_count": 3,
   "metadata": {},
   "outputs": [
    {
     "name": "stdout",
     "output_type": "stream",
     "text": [
      "299\n",
      "250\n",
      "108\n",
      "79\n",
      "264\n"
     ]
    },
    {
     "data": {
      "image/png": "[encoded data removed]",
      "text/plain": [
       "<Figure size 629.921x314.961 with 5 Axes>"
      ]
     },
     "metadata": {},
     "output_type": "display_data"
    }
   ],
   "source": [
    "fig, ax = plt.subplots(1, FIs.Nintervals, figsize=(16*in2cm, 8*in2cm))  \n",
    "\n",
    "for i in range(FIs.Nintervals):\n",
    "\n",
    "    Xi = data.MDtraj[FIs.chi_intervals == i]\n",
    "    num_conformations = Xi.n_frames\n",
    "    print(num_conformations)\n",
    "\n",
    "    distance_matrix = np.zeros((num_conformations, num_conformations))\n",
    "    \n",
    "    for j in range(num_conformations):\n",
    "        distance_matrix[j] = md.rmsd(Xi, Xi, j)\n",
    "\n",
    "    pwd = distance_matrix.flatten()[distance_matrix.flatten()>0]\n",
    "    density, bin_edges = np.histogram(pwd, bins=50, density=True)\n",
    "\n",
    "    ax[i].plot(bin_edges[0:-1], density, 'o')\n",
    "    ax[i].set_xlabel('pwd')\n",
    "    plt.subplots_adjust(left=0, bottom=0, right=1, top=1, wspace=0.2, hspace=0.5)\n"
   ]
  },
  {
   "cell_type": "code",
   "execution_count": 4,
   "metadata": {},
   "outputs": [
    {
     "name": "stderr",
     "output_type": "stream",
     "text": [
      "100%|██████████| 5/5 [00:00<00:00, 83.66it/s]"
     ]
    },
    {
     "name": "stdout",
     "output_type": "stream",
     "text": [
      "0\n",
      "Number of nodes: 9\n",
      "Node, interval, size: 0 0 299\n",
      "Node, interval, size: 1 1 250\n",
      "Node, interval, size: 2 2 29\n",
      "Node, interval, size: 3 2 57\n",
      "Node, interval, size: 4 2 22\n",
      "Node, interval, size: 5 3 28\n",
      "Node, interval, size: 6 3 9\n",
      "Node, interval, size: 7 3 42\n",
      "Node, interval, size: 8 4 264\n"
     ]
    },
    {
     "name": "stderr",
     "output_type": "stream",
     "text": [
      "\n"
     ]
    }
   ],
   "source": [
    "FNs    =  FindNodes(data, FIs,  \n",
    "                                eps   = [0.3, 0.25, 0.2, 0.17, 0.3],\n",
    "                                theta = [5,      5,   5, 5, 5,], \n",
    "                                algorithm = 'CNNC', \n",
    "                                metric = 'mdtraj_rmsd') \n",
    "print(np.sum(FNs.nodes==-1))\n",
    "\n",
    "print(\"Number of nodes:\", str(FNs.Nnodes))\n",
    "for i in range(FNs.Nnodes):\n",
    "    print(\"Node, interval, size:\", i, FNs.index_chi_node[i], FNs.nodes_size[i])"
   ]
  },
  {
   "cell_type": "code",
   "execution_count": 6,
   "metadata": {},
   "outputs": [],
   "source": [
    "#BAM    =  BuildAdjacencyMatrix(data, FNs, size_mlp=128, threshold =113,algorithm='mlp')\n",
    "BAM    =  BuildAdjacencyMatrix(data, FNs, FIs, metric = 'mdtraj_rmsd', include_same_interval=False, r_neighbors = 0.2)\n",
    "\n",
    "\n",
    "BG     =  BuildGraph(FNs, BAM)\n",
    "CE     =  CalculateEnergy(FNs)\n",
    "\n"
   ]
  },
  {
   "cell_type": "code",
   "execution_count": 7,
   "metadata": {},
   "outputs": [
    {
     "data": {
      "image/png": "[encoded data removed]",
      "text/plain": [
       "<Figure size 629.921x196.85 with 2 Axes>"
      ]
     },
     "metadata": {},
     "output_type": "display_data"
    }
   ],
   "source": [
    "#posG = nx.kamada_kawai_layout(Gd)  # kamada_kawai_layout\n",
    "#Make graph and nice plots\n",
    "\n",
    "G      =  BG.G\n",
    "posG = nx.kamada_kawai_layout(G, center=[0,0])  # kamada_kawai_layout\n",
    "\n",
    "index_chi_node = FNs.index_chi_node\n",
    "nodes_size     = np.log(FNs.nodes_size)*50\n",
    "\n",
    "energy         = CE.energy\n",
    "P              = BAM.P\n",
    "\n",
    "\n",
    "\n",
    "font = {'size'   : 8}\n",
    "plt.rc('font', **font)\n",
    "in2cm = 1/2.54  # centimeters in inches\n",
    "\n",
    "fig, (ax1,ax2) = plt.subplots(1, 2, figsize=(16*in2cm, 5*in2cm), facecolor='white')\n",
    "\n",
    "nx.draw(G, \n",
    "        posG, \n",
    "        with_labels=True, \n",
    "        node_color=index_chi_node, \n",
    "        cmap = cm.RdYlBu_r, \n",
    "        node_size= nodes_size*0.5,\n",
    "        edge_color='k', \n",
    "        width=1,\n",
    "        ax=ax1\n",
    "       )\n",
    "\n",
    "\n",
    "nx.draw_networkx_nodes(G, \n",
    "                       posG, \n",
    "                       node_size=nodes_size*0.5,\n",
    "                       node_color=index_chi_node, \n",
    "                       cmap = cm.RdYlBu_r, \n",
    "                       ax=ax1)\n",
    "\n",
    "ax1.set_title('(a) MKM')\n",
    "\n",
    "################## PLOT ENERGY\n",
    "chi_nodes = ProjectFunctionOntoNodes(data, chi0, FNs, periodic=False)\n",
    "\n",
    "\n",
    "for i in range(G.number_of_nodes()):\n",
    "    for j in range(i+1,G.number_of_nodes()):\n",
    "        if BAM.A[i,j]>0:\n",
    "            ax2.plot([chi_nodes[i], chi_nodes[j]], [energy[i], energy[j]], 'k-', linewidth = np.log(1+5*BAM.C[i,j]),zorder=-1) \n",
    "\n",
    "\n",
    "\n",
    "ax2.scatter(chi_nodes, energy, s = nodes_size, c = index_chi_node, cmap = cm.RdYlBu_r)\n",
    "\n",
    "ax2.set_xlabel(r'$\\chi$')\n",
    "ax2.set_title('(b) Energy')\n",
    "\n",
    "#plt.subplots_adjust(left=0, bottom=0.0, right=1, top=0.99, wspace=0.0, hspace=0.0)\n",
    "\n",
    "fig.savefig(\"output/figures/mokito.png\", format='png', dpi=300, bbox_inches='tight')\n"
   ]
  },
  {
   "cell_type": "code",
   "execution_count": 8,
   "metadata": {},
   "outputs": [],
   "source": [
    "nx.write_gml(G, out_mokito + \"MKM.gml\")\n",
    "\n",
    "with open(out_mokito + \"energy_MKM.npy\", 'wb') as f:\n",
    "    np.save(f, BAM.C)\n",
    "    np.save(f, chi_nodes)\n",
    "    np.save(f, energy)\n",
    "    np.save(f, nodes_size)\n",
    "    np.save(f, index_chi_node)"
   ]
  },
  {
   "cell_type": "code",
   "execution_count": 9,
   "metadata": {},
   "outputs": [],
   "source": [
    "# Load relevant coordinates\n",
    "R0   = md.compute_distances(mdtraj, [[0,70]], periodic=False)[:,0]\n",
    "\n",
    "Phi0 = md.compute_phi(mdtraj)[1]     #  Phi0.shape = (Npoints,5)\n",
    "Psi0 = md.compute_psi(mdtraj)[1]     #  Psi0.shape = (Npoints,5)\n",
    "\n",
    "# Project relevant coordinates onto the nodes\n",
    "R_nodes   = ProjectFunctionOntoNodes(data, R0, FNs)\n",
    "Phi_nodes = ProjectFunctionOntoNodes(data, Phi0, FNs,periodic = True)\n",
    "Psi_nodes = ProjectFunctionOntoNodes(data, Psi0, FNs,periodic = True)\n",
    "\n",
    "with open(out_mokito + \"rel_coords_MKM.npy\", 'wb') as f:\n",
    "    np.save(f, chi_nodes)\n",
    "    np.save(f, nodes_size)\n",
    "    np.save(f, R_nodes)\n",
    "    np.save(f, Phi_nodes)\n",
    "    np.save(f, Psi_nodes)    "
   ]
  },
  {
   "cell_type": "markdown",
   "metadata": {},
   "source": [
    "# The following code converts the networkx graph into a mapper graph\n",
    "from collections import defaultdict\n",
    "import networkx as nx\n",
    "import kmapper as km\n",
    "from kmapper import jupyter # Creates custom CSS full-size Jupyter screen\n",
    "from kmapper.plotlyviz import mpl_to_plotly\n",
    "\n",
    "\n",
    "\n",
    "all_chi    =  chi0\n",
    "\n",
    "mapper = km.KeplerMapper()\n",
    "\n",
    "graph = {\n",
    "    \"nodes\": {},\n",
    "    \"links\": [],\n",
    "    'meta_data': {'projection': 'custom',\n",
    "    'n_cubes': FNs.nodes,\n",
    "    'perc_overlap': 0,\n",
    "    'clusterer': 'DBSCAN(min_samples=3)',\n",
    "    'scaler': 'None'},\n",
    "    'meta_nodes': defaultdict(list, {})\n",
    "}\n",
    "\n",
    "\n",
    "# States\n",
    "nodes_dict = defaultdict(list)\n",
    "names_nodes = {}\n",
    "states_nodemembership_x0 = FNs.nodes\n",
    "\n",
    "for i in range(FNs.Nnodes):\n",
    "    key = \"cube\" + str(int(i)) + \"_cluster0\" \n",
    "    names_nodes[i] = key\n",
    "\n",
    "for i, node in enumerate(states_nodemembership_x0):\n",
    "    key = \"cube\" + str(int(node)) + \"_cluster0\" \n",
    "    nodes_dict[key].append(i)\n",
    "\n",
    "graph[\"nodes\"] = nodes_dict\n",
    "\n",
    "\n",
    "# Edges\n",
    "\n",
    "a = dir(FNs)    \n",
    "d_links = defaultdict(list)\n",
    "\n",
    "adjacency_matrix = BAM.Ad\n",
    "\n",
    "np.set_printoptions(suppress=True)\n",
    "\n",
    "for i in range(FNs.Nnodes):\n",
    "    \n",
    "    key_i =  \"cube\" + str(i) + \"_cluster0\" \n",
    "    \n",
    "    for j in range(i + 1):\n",
    "        \n",
    "        key_j = \"cube\" + str(j) + \"_cluster0\" \n",
    "        \n",
    "        if adjacency_matrix[i, j] > 0:\n",
    "            \n",
    "            d_links[key_i].append(key_j)\n",
    "\n",
    "graph[\"links\"] = d_links\n",
    "\n",
    "\n",
    "\n",
    "plotly_RdYlBu = mpl_to_plotly(cm.RdYlBu_r, 20)\n",
    "\n",
    "\n",
    "\n",
    "                \n",
    "\n",
    "mapper.visualize(graph, \n",
    "                    path_html           = out_mokito + \"MKM.html\",\n",
    "                    color_values        = all_chi,\n",
    "                    color_function_name = \"labels\",\n",
    "                    colorscale          = plotly_RdYlBu,\n",
    "                    title               = \"Molecular Kinetics Map\")\n",
    "\n",
    "#jupyter.display(path_html = out_mokito + \"MKM.html\")\n"
   ]
  }
 ],
 "metadata": {
  "kernelspec": {
   "display_name": "emma32",
   "language": "python",
   "name": "python3"
  },
  "language_info": {
   "codemirror_mode": {
    "name": "ipython",
    "version": 3
   },
   "file_extension": ".py",
   "mimetype": "text/x-python",
   "name": "python",
   "nbconvert_exporter": "python",
   "pygments_lexer": "ipython3",
   "version": "3.11.8"
  }
 },
 "nbformat": 4,
 "nbformat_minor": 2
}
