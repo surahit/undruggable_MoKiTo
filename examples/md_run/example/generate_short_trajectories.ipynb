{
 "cells": [
  {
   "cell_type": "code",
   "execution_count": null,
   "id": "8a9a7a1f",
   "metadata": {},
   "outputs": [
    {
     "name": "stdout",
     "output_type": "stream",
     "text": [
      "Created variables:\n",
      "inp_dir = input/\n",
      "out_trajectories1 = output/trajectories/\n",
      "out_trajectories2 = output/trajectories/openmm_files/\n",
      "out_trajectories3 = output/trajectories/openmm_files/initial_states/\n",
      "out_trajectories4 = output/trajectories/openmm_files/final_states/\n",
      "out_isokann = output/isokann/\n",
      "out_mokito = output/mokito/\n",
      "output/trajectories/ already exists!\n",
      "output/trajectories/openmm_files/ already exists!\n",
      "output/trajectories/openmm_files/initial_states/ already exists!\n",
      "output/trajectories/openmm_files/final_states/ already exists!\n",
      " \n",
      " \n"
     ]
    }
   ],
   "source": [
    "import numpy as np\n",
    "import sympy as sp\n",
    "import matplotlib.pyplot as plt\n",
    "import sys\n",
    "import os\n",
    "\n",
    "# Add the project root\n",
    "sys.path.append(os.path.abspath('../../'))\n",
    "\n",
    "from src.useful_functions import *\n",
    "from src.openmm.short_trajectories_module import generate_short_trajectories\n",
    "\n",
    "# For reproducibility\n",
    "np.random.seed(0)\n",
    "\n",
    "# For matplotlib\n",
    "font = {'size'   : 10}\n",
    "plt.rc('fon**font)\n",
    "in2cm = 1/2.54  # centimeters in inches\n",
    "\n",
    "# Read directory paths\n",
    "read_dirs_paths('dir_paths.txt', globals())\n",
    "check_directories(out_trajectories1 ,out_trajectories2 ,out_trajectories3 ,out_trajectories4)"
   ]
  },
  {
   "cell_type": "code",
   "execution_count": 2,
   "id": "a612a667",
   "metadata": {},
   "outputs": [
    {
     "name": "stdout",
     "output_type": "stream",
     "text": [
      ">> Working directories:\n",
      "Input files: input/\n",
      "Output files: output/trajectories/openmm_files/\n",
      "Output files2: output/trajectories/openmm_files/final_states/\n",
      " \n",
      "Number of initial states: 1000\n",
      "Number of final states: 10\n",
      " \n",
      ">> Integrator parameters:\n",
      "Integrator timestep: 0.002 ps\n",
      "Number of timesteps: 1000\n",
      "Real time: 0.002 ns\n",
      "Saved frames (only molecule): 10\n",
      " \n",
      ">> System parameters:\n",
      "Temperature: 300 K\n",
      "Friction: 1 ps-1\n",
      "\n",
      ">> Molecule parameters:\n",
      "Number of atoms (no water): 73\n",
      "Number of water molecules: 782\n",
      "Total number of atoms: 2419\n",
      " \n"
     ]
    },
    {
     "name": "stderr",
     "output_type": "stream",
     "text": [
      "  0%|          | 0/1000 [00:00<?, ?it/s]/scratch/htc/ldonati/anaconda32/envs/emma32/lib/python3.11/site-packages/mdtraj/utils/validation.py:123: TypeCastPerformanceWarning: Casting xyz dtype=float64 to <class 'numpy.float32'> \n",
      "  warnings.warn(\n",
      "100%|██████████| 1000/1000 [2:51:10<00:00, 10.27s/it] "
     ]
    },
    {
     "name": "stdout",
     "output_type": "stream",
     "text": [
      "\n",
      "\n",
      "****** SIMULATION COMPLETED *****************************\n",
      "\n",
      "\n"
     ]
    },
    {
     "name": "stderr",
     "output_type": "stream",
     "text": [
      "\n"
     ]
    }
   ],
   "source": [
    "pdbfile_solute = 'pdbfile_solute.pdb'\n",
    "pdbfile_water = 'pdbfile_water.pdb'\n",
    "\n",
    "file_traj_water  = \"trajectory_water.dcd\"\n",
    "file_traj_solute = \"trajectory_solute.dcd\"\n",
    "\n",
    "generate_short_trajectories(\n",
    "                                inp_dir  =  inp_dir,\n",
    "                                out_dir  =  out_trajectories2,\n",
    "                                out_dir2 =  out_trajectories4,\n",
    "                                pdbfile_solute = 'pdbfile_solute.pdb', \n",
    "                                pdbfile_water  = 'pdbfile_water.pdb',\n",
    "                                file_traj_water  = \"trajectory_water.dcd\",\n",
    "                                file_traj_solute = \"trajectory_solute.dcd\",\n",
    "                                dt       = 0.002,\n",
    "                                Nsteps   = 1000,\n",
    "                                Nframes_solute    = 10,\n",
    "                                Nframes_water     = 0,\n",
    "                                solvent = 'water',\n",
    "                                NfinPoints = 10,\n",
    "                                gamma = 1,\n",
    "                                T     = 300,\n",
    "                                use_initial_vels = False\n",
    "                                 )"
   ]
  }
 ],
 "metadata": {
  "kernelspec": {
   "display_name": "emma32",
   "language": "python",
   "name": "python3"
  },
  "language_info": {
   "codemirror_mode": {
    "name": "ipython",
    "version": 3
   },
   "file_extension": ".py",
   "mimetype": "text/x-python",
   "name": "python",
   "nbconvert_exporter": "python",
   "pygments_lexer": "ipython3",
   "version": "3.11.8"
  }
 },
 "nbformat": 4,
 "nbformat_minor": 5
}
